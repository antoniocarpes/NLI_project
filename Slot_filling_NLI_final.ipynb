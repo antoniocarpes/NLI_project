{
  "cells": [
    {
      "cell_type": "code",
      "execution_count": null,
      "metadata": {
        "colab": {
          "base_uri": "https://localhost:8080/"
        },
        "id": "q-1iGjHwU5Tr",
        "outputId": "1729127d-a389-4048-8dae-774817d38dde"
      },
      "outputs": [
        {
          "name": "stdout",
          "output_type": "stream",
          "text": [
            "Mounted at /content/gdrive\n"
          ]
        }
      ],
      "source": [
        "from google.colab import drive\n",
        "drive.mount('/content/gdrive')"
      ]
    },
    {
      "cell_type": "code",
      "execution_count": null,
      "metadata": {
        "colab": {
          "base_uri": "https://localhost:8080/"
        },
        "id": "lUG1wDLmVLfn",
        "outputId": "da346511-27d9-4410-ffdb-b51130821002"
      },
      "outputs": [
        {
          "name": "stdout",
          "output_type": "stream",
          "text": [
            "/content/gdrive/My Drive/Colab Notebooks\n"
          ]
        }
      ],
      "source": [
        "# change the path to where your notebook is located\n",
        "%cd \"gdrive/My Drive/Colab Notebooks\""
      ]
    },
    {
      "cell_type": "code",
      "execution_count": null,
      "metadata": {
        "colab": {
          "base_uri": "https://localhost:8080/"
        },
        "id": "dxh8wd2KVRJ-",
        "outputId": "8a22ae0d-1d5d-4667-b29e-d598b4667f7b"
      },
      "outputs": [
        {
          "name": "stdout",
          "output_type": "stream",
          "text": [
            "\u001b[2K     \u001b[90m━━━━━━━━━━━━━━━━━━━━━━━━━━━━━━━━━━━━━━━━\u001b[0m \u001b[32m521.2/521.2 kB\u001b[0m \u001b[31m10.8 MB/s\u001b[0m eta \u001b[36m0:00:00\u001b[0m\n",
            "\u001b[2K     \u001b[90m━━━━━━━━━━━━━━━━━━━━━━━━━━━━━━━━━━━━━━━━\u001b[0m \u001b[32m115.3/115.3 kB\u001b[0m \u001b[31m16.0 MB/s\u001b[0m eta \u001b[36m0:00:00\u001b[0m\n",
            "\u001b[2K     \u001b[90m━━━━━━━━━━━━━━━━━━━━━━━━━━━━━━━━━━━━━━━━\u001b[0m \u001b[32m134.8/134.8 kB\u001b[0m \u001b[31m20.1 MB/s\u001b[0m eta \u001b[36m0:00:00\u001b[0m\n",
            "\u001b[2K     \u001b[90m━━━━━━━━━━━━━━━━━━━━━━━━━━━━━━━━━━━━━━━━\u001b[0m \u001b[32m265.7/265.7 kB\u001b[0m \u001b[31m8.0 MB/s\u001b[0m eta \u001b[36m0:00:00\u001b[0m\n",
            "\u001b[2K     \u001b[90m━━━━━━━━━━━━━━━━━━━━━━━━━━━━━━━━━━━━━━━━\u001b[0m \u001b[32m43.6/43.6 kB\u001b[0m \u001b[31m931.4 kB/s\u001b[0m eta \u001b[36m0:00:00\u001b[0m\n",
            "\u001b[?25h  Preparing metadata (setup.py) ... \u001b[?25l\u001b[?25hdone\n",
            "  Building wheel for seqeval (setup.py) ... \u001b[?25l\u001b[?25hdone\n",
            "\u001b[2K     \u001b[90m━━━━━━━━━━━━━━━━━━━━━━━━━━━━━━━━━━━━━━━━\u001b[0m \u001b[32m84.1/84.1 kB\u001b[0m \u001b[31m2.5 MB/s\u001b[0m eta \u001b[36m0:00:00\u001b[0m\n",
            "\u001b[?25h"
          ]
        }
      ],
      "source": [
        "!pip install datasets -q\n",
        "!pip install transformers -q\n",
        "!pip install transformers[torch] -q\n",
        "!pip install accelerate -U -q\n",
        "!pip install seqeval -q\n",
        "!pip install evaluate -q"
      ]
    },
    {
      "cell_type": "code",
      "execution_count": null,
      "metadata": {
        "id": "szHkfXJWafvq"
      },
      "outputs": [],
      "source": [
        "import numpy as np\n",
        "import pandas as pd"
      ]
    },
    {
      "cell_type": "code",
      "execution_count": null,
      "metadata": {
        "id": "gIbrX98NaqU1"
      },
      "outputs": [],
      "source": [
        "# Run it only once\n",
        "from datasets import load_dataset\n",
        "dataset = load_dataset(\"multi_woz_v22\")"
      ]
    },
    {
      "cell_type": "code",
      "execution_count": null,
      "metadata": {
        "colab": {
          "base_uri": "https://localhost:8080/",
          "height": 113,
          "referenced_widgets": [
            "4242ee0c9ac34c65b129e3d72af0abf6",
            "c93e72c2d55943988f63884cdce2c63e",
            "dbfd438fbbeb4370bae5cb59971e1859",
            "b8a0ffaa697345f89cde18bd16b14055",
            "6a5a92083cd047bbbbea245483f97204",
            "8edf96320f5b421186862f950b15e9ce",
            "7e40f7e6cc864a13890c94ee0cdad696",
            "9c39ddf603ad41d0b1f9042660e350ba",
            "e65e26925a814fe58e25e8557b2c2e3d",
            "f9637874deea4809b4db368ad2babf12",
            "d90aadb3292948c5b98096e2680d0e67",
            "f7890bcb21304c21b682f83121a7ac59",
            "7d15063e515345e5bc5e7a6487972109",
            "0267a9654724418192691197a66437ee",
            "0e2a9ff994b64d0180251a362dee18a7",
            "08ee547025a64d7a8e3a0990af0e2e0a",
            "2fa2eead37244473a20e96434a597b1e",
            "c087bd06cb8041548d10c123c75fffa2",
            "7d9e22a5acee4b7caa4471950a8dead5",
            "26b00a7c776546f6a6f75780785cd8f9",
            "bc48e7fcee52424aa1f8c5855ea83f47",
            "8a32db5de0ed47059617a313bb8f5856",
            "fde6c555fac14a11b3dbe8532cfe1d32",
            "48ff0c73ad9c47af96bca453eb7ed56c",
            "6cbf5791a70c4345b0a60c67c6d5d024",
            "147496f76b8d4bb4be64734eae2716a1",
            "acffd75dde394c93b20782bdc63c325a",
            "964202672a02442590db4769f034dd49",
            "2cf34bffa88540e8b0b0cd0db3a5a9ee",
            "0ab29aeb7bf04bd0a4f641e9fc2d170a",
            "ac3146859e964c6790ae30cedb56de80",
            "fa28cba4b1ac4b96809c876771aee089",
            "52ce8b61be174e928ec49935a1850307",
            "f10ca75a0b59492a8c851f9b7421135c",
            "9e4965023e3e42b99f6c5e3f1c1692a7",
            "fa24cbcfcdf04c0e978457333405c298"
          ]
        },
        "id": "YS7JaGRIauYp",
        "outputId": "f80f6a56-af6e-4215-98a7-2ea1452b89e7"
      },
      "outputs": [
        {
          "data": {
            "application/vnd.jupyter.widget-view+json": {
              "model_id": "f10ca75a0b59492a8c851f9b7421135c",
              "version_major": 2,
              "version_minor": 0
            },
            "text/plain": [
              "Saving the dataset (0/1 shards):   0%|          | 0/8437 [00:00<?, ? examples/s]"
            ]
          },
          "metadata": {},
          "output_type": "display_data"
        },
        {
          "data": {
            "application/vnd.jupyter.widget-view+json": {
              "model_id": "9e4965023e3e42b99f6c5e3f1c1692a7",
              "version_major": 2,
              "version_minor": 0
            },
            "text/plain": [
              "Saving the dataset (0/1 shards):   0%|          | 0/1000 [00:00<?, ? examples/s]"
            ]
          },
          "metadata": {},
          "output_type": "display_data"
        },
        {
          "data": {
            "application/vnd.jupyter.widget-view+json": {
              "model_id": "fa24cbcfcdf04c0e978457333405c298",
              "version_major": 2,
              "version_minor": 0
            },
            "text/plain": [
              "Saving the dataset (0/1 shards):   0%|          | 0/1000 [00:00<?, ? examples/s]"
            ]
          },
          "metadata": {},
          "output_type": "display_data"
        }
      ],
      "source": [
        "# Run it only once\n",
        "dataset.save_to_disk(\"dataset.hf\")"
      ]
    },
    {
      "cell_type": "code",
      "execution_count": null,
      "metadata": {
        "id": "d-o-6V1Law5b"
      },
      "outputs": [],
      "source": [
        "from datasets import DatasetDict\n",
        "dataset = DatasetDict.load_from_disk(\"dataset.hf\")"
      ]
    },
    {
      "cell_type": "code",
      "execution_count": null,
      "metadata": {
        "colab": {
          "base_uri": "https://localhost:8080/"
        },
        "id": "uqInQZjVhxWI",
        "outputId": "71e3cc3d-ad0e-4b58-c3f2-af0c42ac25a7"
      },
      "outputs": [
        {
          "data": {
            "text/plain": [
              "{'act_type': ['Restaurant-Inform', 'Restaurant-Inform'],\n",
              " 'act_slot_name': ['area', 'pricerange'],\n",
              " 'act_slot_value': ['centre', 'expensive'],\n",
              " 'span_start': [30, 43],\n",
              " 'span_end': [36, 52]}"
            ]
          },
          "execution_count": 8,
          "metadata": {},
          "output_type": "execute_result"
        }
      ],
      "source": [
        "#we are only going to care about this information, for each dialogue  in the train dataset we go to the turns and inside of it, in dialogue acts we will\n",
        "#find the span info which covers 'act type' which we have already classified, and then the act_slot_names and values, and the start and end of those slots.\n",
        "dataset['train'][0]['turns']['dialogue_acts'][0]['span_info']"
      ]
    },
    {
      "cell_type": "code",
      "execution_count": null,
      "metadata": {
        "colab": {
          "base_uri": "https://localhost:8080/"
        },
        "id": "N8tKqGdbbiWP",
        "outputId": "b0fd0421-1058-4688-fe07-baacb9eabb06"
      },
      "outputs": [
        {
          "data": {
            "text/plain": [
              "{'act_type': ['Restaurant-Inform'],\n",
              " 'act_slots': [{'slot_name': ['area', 'pricerange'],\n",
              "   'slot_value': ['centre', 'expensive']}]}"
            ]
          },
          "execution_count": 9,
          "metadata": {},
          "output_type": "execute_result"
        }
      ],
      "source": [
        "dataset['train'][0]['turns']['dialogue_acts'][0]['dialog_act']"
      ]
    },
    {
      "cell_type": "code",
      "execution_count": null,
      "metadata": {
        "id": "nlf8UyF_2W6c"
      },
      "outputs": [],
      "source": [
        "def make_df(split):\n",
        "\n",
        "  train_domain = []\n",
        "  extracted_information_not_mapped_ground_truth = []\n",
        "  extracted_information_ground_truth = []\n",
        "  count = 0\n",
        "\n",
        "  for d,dial in enumerate(dataset[split]):\n",
        "      speaker_str = {0: 'User', 1: 'Agent'}\n",
        "      turns = dial['turns']\n",
        "      if not any(set(dial['turns']['frames'][turn_id]['service']).intersection(['hotel', 'restaurant']) for turn_id,utt in enumerate(dial['turns']['utterance'])):\n",
        "        continue\n",
        "      for turn_id,utt in enumerate(turns['utterance']):\n",
        "          extracted_information_ground_truth = []\n",
        "          start = []\n",
        "          end = []\n",
        "          speaker = speaker_str[turns['speaker'][turn_id]]\n",
        "          if speaker == 'Agent':\n",
        "            continue\n",
        "          dialogue_acts = turns['dialogue_acts'][turn_id]['span_info']['act_type']\n",
        "          slot_names_per_act = turns['dialogue_acts'][turn_id]['span_info']['act_slot_name']\n",
        "          slot_values_per_act = turns['dialogue_acts'][turn_id]['span_info']['act_slot_value']\n",
        "          span_values_start = turns['dialogue_acts'][turn_id]['span_info']['span_start']\n",
        "          span_values_end = turns['dialogue_acts'][turn_id]['span_info']['span_end']\n",
        "\n",
        "          for act_i in range(len(slot_names_per_act)):\n",
        "\n",
        "              if dialogue_acts[act_i].startswith(\"Hotel\") or dialogue_acts[act_i].startswith(\"Restaurant\"):\n",
        "                if len(slot_names_per_act) > 0:\n",
        "                  span_start = span_values_start[act_i]\n",
        "                  span_end = span_values_end[act_i]\n",
        "                  extracted_information_ground_truth.append(tuple([dialogue_acts[act_i].split(\"-\")[0].lower()+\"-\"+slot_names_per_act[act_i], slot_values_per_act[act_i]]))\n",
        "                  start.append(span_start)\n",
        "                  end.append(span_end)\n",
        "\n",
        "\n",
        "          if len(extracted_information_ground_truth) > 0:\n",
        "            train_domain.append([dial['dialogue_id'], utt.lower(), turn_id, speaker, extracted_information_ground_truth, start, end])\n",
        "\n",
        "  frame=pd.DataFrame(train_domain, columns=['conv_id', 'utterance', 'turn_id', 'speaker', 'slots_dict','slots_begin','slots_end'])\n",
        "  columns_to_remove=['conv_id','turn_id']\n",
        "\n",
        "  frame.drop(columns=columns_to_remove,inplace=True)\n",
        "  return frame"
      ]
    },
    {
      "cell_type": "code",
      "execution_count": null,
      "metadata": {
        "id": "OYmK0-VW7s_q"
      },
      "outputs": [],
      "source": [
        "#let's now generate the dataframes for train, test and validation\n",
        "data_train = make_df('train')\n",
        "data_test = make_df('test')\n",
        "data_val = make_df('validation')"
      ]
    },
    {
      "cell_type": "code",
      "execution_count": null,
      "metadata": {
        "colab": {
          "base_uri": "https://localhost:8080/",
          "height": 419
        },
        "id": "emLEnKmlJHU5",
        "outputId": "4b25a05f-91de-4967-b0a8-e7c70a1559e9"
      },
      "outputs": [
        {
          "data": {
            "text/html": [
              "<div>\n",
              "<style scoped>\n",
              "    .dataframe tbody tr th:only-of-type {\n",
              "        vertical-align: middle;\n",
              "    }\n",
              "\n",
              "    .dataframe tbody tr th {\n",
              "        vertical-align: top;\n",
              "    }\n",
              "\n",
              "    .dataframe thead th {\n",
              "        text-align: right;\n",
              "    }\n",
              "</style>\n",
              "<table border=\"1\" class=\"dataframe\">\n",
              "  <thead>\n",
              "    <tr style=\"text-align: right;\">\n",
              "      <th></th>\n",
              "      <th>utterance</th>\n",
              "      <th>speaker</th>\n",
              "      <th>slots_dict</th>\n",
              "      <th>slots_begin</th>\n",
              "      <th>slots_end</th>\n",
              "    </tr>\n",
              "  </thead>\n",
              "  <tbody>\n",
              "    <tr>\n",
              "      <th>0</th>\n",
              "      <td>i need a place to dine in the center thats exp...</td>\n",
              "      <td>User</td>\n",
              "      <td>[(restaurant-area, centre), (restaurant-pricer...</td>\n",
              "      <td>[30, 43]</td>\n",
              "      <td>[36, 52]</td>\n",
              "    </tr>\n",
              "    <tr>\n",
              "      <th>1</th>\n",
              "      <td>sounds good, could i get that phone number? al...</td>\n",
              "      <td>User</td>\n",
              "      <td>[(hotel-pricerange, expensive), (hotel-type, h...</td>\n",
              "      <td>[76, 86]</td>\n",
              "      <td>[85, 91]</td>\n",
              "    </tr>\n",
              "    <tr>\n",
              "      <th>2</th>\n",
              "      <td>i want to book it for 2 people and 2 nights st...</td>\n",
              "      <td>User</td>\n",
              "      <td>[(hotel-bookstay, 2), (hotel-bookpeople, 2), (...</td>\n",
              "      <td>[22, 35, 58]</td>\n",
              "      <td>[23, 36, 66]</td>\n",
              "    </tr>\n",
              "    <tr>\n",
              "      <th>3</th>\n",
              "      <td>no, but i'd really like to be on the south end...</td>\n",
              "      <td>User</td>\n",
              "      <td>[(hotel-area, south)]</td>\n",
              "      <td>[37]</td>\n",
              "      <td>[42]</td>\n",
              "    </tr>\n",
              "    <tr>\n",
              "      <th>4</th>\n",
              "      <td>no i don't care about the price. which one do ...</td>\n",
              "      <td>User</td>\n",
              "      <td>[(hotel-pricerange, dontcare), (restaurant-pri...</td>\n",
              "      <td>[5, 5]</td>\n",
              "      <td>[15, 15]</td>\n",
              "    </tr>\n",
              "    <tr>\n",
              "      <th>...</th>\n",
              "      <td>...</td>\n",
              "      <td>...</td>\n",
              "      <td>...</td>\n",
              "      <td>...</td>\n",
              "      <td>...</td>\n",
              "    </tr>\n",
              "    <tr>\n",
              "      <th>19496</th>\n",
              "      <td>i would like indian food please.</td>\n",
              "      <td>User</td>\n",
              "      <td>[(restaurant-food, indian)]</td>\n",
              "      <td>[13]</td>\n",
              "      <td>[19]</td>\n",
              "    </tr>\n",
              "    <tr>\n",
              "      <th>19497</th>\n",
              "      <td>hello, i am looking for a cheap restaurant tha...</td>\n",
              "      <td>User</td>\n",
              "      <td>[(restaurant-pricerange, cheap), (restaurant-f...</td>\n",
              "      <td>[26, 55]</td>\n",
              "      <td>[31, 61]</td>\n",
              "    </tr>\n",
              "    <tr>\n",
              "      <th>19498</th>\n",
              "      <td>yes, how about portuguese food?</td>\n",
              "      <td>User</td>\n",
              "      <td>[(restaurant-food, portuguese)]</td>\n",
              "      <td>[15]</td>\n",
              "      <td>[25]</td>\n",
              "    </tr>\n",
              "    <tr>\n",
              "      <th>19499</th>\n",
              "      <td>it doesn't matter.</td>\n",
              "      <td>User</td>\n",
              "      <td>[(restaurant-area, dontcare)]</td>\n",
              "      <td>[3]</td>\n",
              "      <td>[17]</td>\n",
              "    </tr>\n",
              "    <tr>\n",
              "      <th>19500</th>\n",
              "      <td>i would like the address of nandos restaurant,...</td>\n",
              "      <td>User</td>\n",
              "      <td>[(restaurant-name, nandos)]</td>\n",
              "      <td>[28]</td>\n",
              "      <td>[34]</td>\n",
              "    </tr>\n",
              "  </tbody>\n",
              "</table>\n",
              "<p>19501 rows × 5 columns</p>\n",
              "</div>"
            ],
            "text/plain": [
              "                                               utterance speaker  \\\n",
              "0      i need a place to dine in the center thats exp...    User   \n",
              "1      sounds good, could i get that phone number? al...    User   \n",
              "2      i want to book it for 2 people and 2 nights st...    User   \n",
              "3      no, but i'd really like to be on the south end...    User   \n",
              "4      no i don't care about the price. which one do ...    User   \n",
              "...                                                  ...     ...   \n",
              "19496                   i would like indian food please.    User   \n",
              "19497  hello, i am looking for a cheap restaurant tha...    User   \n",
              "19498                    yes, how about portuguese food?    User   \n",
              "19499                                 it doesn't matter.    User   \n",
              "19500  i would like the address of nandos restaurant,...    User   \n",
              "\n",
              "                                              slots_dict   slots_begin  \\\n",
              "0      [(restaurant-area, centre), (restaurant-pricer...      [30, 43]   \n",
              "1      [(hotel-pricerange, expensive), (hotel-type, h...      [76, 86]   \n",
              "2      [(hotel-bookstay, 2), (hotel-bookpeople, 2), (...  [22, 35, 58]   \n",
              "3                                  [(hotel-area, south)]          [37]   \n",
              "4      [(hotel-pricerange, dontcare), (restaurant-pri...        [5, 5]   \n",
              "...                                                  ...           ...   \n",
              "19496                        [(restaurant-food, indian)]          [13]   \n",
              "19497  [(restaurant-pricerange, cheap), (restaurant-f...      [26, 55]   \n",
              "19498                    [(restaurant-food, portuguese)]          [15]   \n",
              "19499                      [(restaurant-area, dontcare)]           [3]   \n",
              "19500                        [(restaurant-name, nandos)]          [28]   \n",
              "\n",
              "          slots_end  \n",
              "0          [36, 52]  \n",
              "1          [85, 91]  \n",
              "2      [23, 36, 66]  \n",
              "3              [42]  \n",
              "4          [15, 15]  \n",
              "...             ...  \n",
              "19496          [19]  \n",
              "19497      [31, 61]  \n",
              "19498          [25]  \n",
              "19499          [17]  \n",
              "19500          [34]  \n",
              "\n",
              "[19501 rows x 5 columns]"
            ]
          },
          "execution_count": 28,
          "metadata": {},
          "output_type": "execute_result"
        }
      ],
      "source": [
        "data_train"
      ]
    },
    {
      "cell_type": "code",
      "source": [
        "def id_to_word_id(sentence, char_index):\n",
        "    words = sentence.split()\n",
        "    char_count = 0\n",
        "    return next((i for i, word in enumerate(words) if (char_count := char_count + len(word) + 1) > char_index), len(words) - 1)\n",
        "\n",
        "def slot_filling(sentence, slot_types, starts, ends):\n",
        "    labels = ['O'] * len(sentence.split())\n",
        "\n",
        "    for slot_type, start, end in zip(slot_types, starts, ends):\n",
        "        start_word_index = id_to_word_id(sentence, start)\n",
        "        end_word_index = id_to_word_id(sentence, end - 1)\n",
        "\n",
        "        labels[start_word_index] = 'B-' + slot_type[0]\n",
        "        labels[start_word_index + 1:end_word_index + 1] = ['I-' + slot_type[0]] * (end_word_index - start_word_index)\n",
        "\n",
        "    return labels\n"
      ],
      "metadata": {
        "id": "nTFfAMpMdjmb"
      },
      "execution_count": 1,
      "outputs": []
    },
    {
      "cell_type": "code",
      "execution_count": null,
      "metadata": {
        "id": "QdPu1n2tdSWA"
      },
      "outputs": [],
      "source": [
        "def set_labels_frame(row):\n",
        "  labels_utt = slot_filling(row['utterance'], row['slots_dict'], row['slots_begin'], row['slots_end'])\n",
        "  return labels_utt"
      ]
    },
    {
      "cell_type": "code",
      "execution_count": null,
      "metadata": {
        "id": "kgq0uOlyelPH"
      },
      "outputs": [],
      "source": [
        "data_train['labels'] = data_train.apply(set_labels_frame, axis=1)\n",
        "data_test['labels'] = data_test.apply(set_labels_frame, axis=1)\n",
        "data_val['labels'] = data_val.apply(set_labels_frame, axis=1)"
      ]
    },
    {
      "cell_type": "markdown",
      "metadata": {
        "id": "sxuM5rAihLjI"
      },
      "source": [
        "Now, we will save in a set all the labels that appear in the utterances in the training set"
      ]
    },
    {
      "cell_type": "code",
      "execution_count": null,
      "metadata": {
        "id": "IyiaKbTHhRih"
      },
      "outputs": [],
      "source": [
        "labels_conjunto=set()\n",
        "for label in data_train['labels']:\n",
        "  labels_conjunto.update(label)"
      ]
    },
    {
      "cell_type": "code",
      "execution_count": null,
      "metadata": {
        "id": "Eqphx6aViiLs"
      },
      "outputs": [],
      "source": [
        "len_labels=len(labels_conjunto)"
      ]
    },
    {
      "cell_type": "code",
      "execution_count": null,
      "metadata": {
        "id": "jYSE1Y-nmAjB"
      },
      "outputs": [],
      "source": [
        "labels_list=list(labels_conjunto)"
      ]
    },
    {
      "cell_type": "code",
      "execution_count": null,
      "metadata": {
        "id": "DK9dNXz5mFuI"
      },
      "outputs": [],
      "source": [
        "id2label = {idx:label for idx, label in enumerate(labels_list)}\n",
        "label2id = {label:idx for idx, label in enumerate(labels_list)}"
      ]
    },
    {
      "cell_type": "code",
      "execution_count": null,
      "metadata": {
        "id": "_2WWUCk9m7YB"
      },
      "outputs": [],
      "source": [
        "def set_labels_ids_frame(row):\n",
        "  labels_id=[]\n",
        "  for label_name in row['labels']:\n",
        "    labels_id.append(label2id[label_name])\n",
        "  return labels_id"
      ]
    },
    {
      "cell_type": "code",
      "execution_count": null,
      "metadata": {
        "id": "c-qHAclDnqrU"
      },
      "outputs": [],
      "source": [
        "data_train['labels_id'] = data_train.apply(set_labels_ids_frame, axis=1)\n",
        "data_test['labels_id'] = data_test.apply(set_labels_ids_frame, axis=1)\n",
        "data_val['labels_id'] = data_val.apply(set_labels_ids_frame, axis=1)"
      ]
    },
    {
      "cell_type": "code",
      "execution_count": null,
      "metadata": {
        "id": "Phz85J8go4MH"
      },
      "outputs": [],
      "source": [
        "data_train['utterance_split'] = data_train['utterance'].apply(lambda x: x.split())\n",
        "data_test['utterance_split'] = data_test['utterance'].apply(lambda x: x.split())\n",
        "data_val['utterance_split'] = data_val['utterance'].apply(lambda x: x.split())"
      ]
    },
    {
      "cell_type": "code",
      "execution_count": null,
      "metadata": {
        "id": "wCbpQXKJrz4h"
      },
      "outputs": [],
      "source": [
        "columnas_mantener=['utterance_split','labels_id']"
      ]
    },
    {
      "cell_type": "code",
      "execution_count": null,
      "metadata": {
        "id": "qq7nfuhlrW2T"
      },
      "outputs": [],
      "source": [
        "data_train=data_train[columnas_mantener]\n",
        "data_test=data_test[columnas_mantener]\n",
        "data_val=data_val[columnas_mantener]"
      ]
    },
    {
      "cell_type": "code",
      "execution_count": null,
      "metadata": {
        "id": "0e_FJk1RrW6A"
      },
      "outputs": [],
      "source": [
        "from datasets import Dataset\n",
        "\n",
        "train_dict = {\"text\": [utt for utt in data_train['utterance_split']], \"label\": [ids for ids in data_train['labels_id']]}\n",
        "val_dict = {\"text\": [utt for utt in data_val['utterance_split']], \"label\": [ids for ids in data_val['labels_id']]}\n",
        "test_dict = {\"text\": [utt for utt in data_test['utterance_split']], \"label\": [ids for ids in data_test['labels_id']]}\n",
        "\n",
        "train_dataset = Dataset.from_dict(train_dict)\n",
        "val_dataset = Dataset.from_dict(val_dict)\n",
        "test_dataset = Dataset.from_dict(test_dict)\n",
        "\n",
        "slot_filling_dataset = DatasetDict({\"train\": train_dataset, \"val\": val_dataset, \"test\": test_dataset})"
      ]
    },
    {
      "cell_type": "code",
      "execution_count": null,
      "metadata": {
        "colab": {
          "base_uri": "https://localhost:8080/"
        },
        "id": "NtQJ3tMMtKxl",
        "outputId": "147ab271-0137-425c-b45c-be46143e5b32"
      },
      "outputs": [
        {
          "data": {
            "text/plain": [
              "DatasetDict({\n",
              "    train: Dataset({\n",
              "        features: ['text', 'label'],\n",
              "        num_rows: 19501\n",
              "    })\n",
              "    val: Dataset({\n",
              "        features: ['text', 'label'],\n",
              "        num_rows: 2316\n",
              "    })\n",
              "    test: Dataset({\n",
              "        features: ['text', 'label'],\n",
              "        num_rows: 2294\n",
              "    })\n",
              "})"
            ]
          },
          "execution_count": 54,
          "metadata": {},
          "output_type": "execute_result"
        }
      ],
      "source": [
        "slot_filling_dataset"
      ]
    },
    {
      "cell_type": "code",
      "execution_count": null,
      "metadata": {
        "id": "qZ2nC1U5PYfM",
        "outputId": "446d73e0-9c79-40f3-fa0e-1a47fea15b64"
      },
      "outputs": [
        {
          "data": {
            "text/plain": [
              "[13, 13, 13, 13, 13, 13, 13, 13, 5, 13, 18]"
            ]
          },
          "execution_count": 107,
          "metadata": {},
          "output_type": "execute_result"
        }
      ],
      "source": [
        "slot_filling_dataset['train']['label'][0]"
      ]
    },
    {
      "cell_type": "code",
      "execution_count": null,
      "metadata": {
        "id": "6uYtIF4VyGBs"
      },
      "outputs": [],
      "source": [
        "#we get this code online and what it does is tokenizing input text using the Hugging Face tokenizer, aligning labels with individual tokens based on word\n",
        "#boundaries, and returning a dictionary (tokenized_inputs) containing the tokenized information along with aligned labels.\n",
        "\n",
        "def tokenize_and_align_labels(examples):\n",
        "    tokenized_inputs = tokenizer(examples['text'], truncation=True, is_split_into_words=True)\n",
        "\n",
        "\n",
        "\n",
        "    labels = []\n",
        "    for i, label in enumerate(examples['label']):\n",
        "        word_ids = tokenized_inputs.word_ids(batch_index=i)  # Map tokens to their respective word.\n",
        "        previous_word_idx = None\n",
        "        label_ids = []\n",
        "        for word_idx in word_ids:  # Set the special tokens to -100.\n",
        "            if word_idx is None:\n",
        "                label_ids.append(-100)\n",
        "            elif word_idx != previous_word_idx:  # Only label the first token of a given word.\n",
        "                label_ids.append(label[word_idx])\n",
        "            else:\n",
        "                label_ids.append(-100)\n",
        "            previous_word_idx = word_idx\n",
        "        labels.append(label_ids)\n",
        "\n",
        "    tokenized_inputs[\"labels\"] = labels\n",
        "    return tokenized_inputs"
      ]
    },
    {
      "cell_type": "code",
      "execution_count": null,
      "metadata": {
        "id": "ToKo5QRyx-NG"
      },
      "outputs": [],
      "source": [
        "from transformers import BertTokenizer, AutoModelForTokenClassification\n",
        "from torch.nn import CrossEntropyLoss\n",
        "from torch.optim import Adam\n",
        "from torch.utils.data import DataLoader, TensorDataset\n",
        "from transformers import BertTokenizerFast\n",
        "\n",
        "tokenizer = BertTokenizerFast.from_pretrained('bert-base-uncased')\n",
        "\n",
        "tokenized_data = slot_filling_dataset.map(tokenize_and_align_labels, batched=True)\n",
        "\n"
      ]
    },
    {
      "cell_type": "code",
      "source": [
        "import evaluate\n",
        "\n",
        "seqeval = evaluate.load(\"seqeval\")"
      ],
      "metadata": {
        "id": "eiKFV0vzfd-2"
      },
      "execution_count": null,
      "outputs": []
    },
    {
      "cell_type": "code",
      "execution_count": null,
      "metadata": {
        "id": "vXSPqxSK1v5P",
        "outputId": "6d5a0cfd-c787-4ad8-ebc1-37d186a3403c"
      },
      "outputs": [
        {
          "name": "stderr",
          "output_type": "stream",
          "text": [
            "huggingface/tokenizers: The current process just got forked, after parallelism has already been used. Disabling parallelism to avoid deadlocks...\n",
            "To disable this warning, you can either:\n",
            "\t- Avoid using `tokenizers` before the fork if possible\n",
            "\t- Explicitly set the environment variable TOKENIZERS_PARALLELISM=(true | false)\n"
          ]
        }
      ],
      "source": [
        "from transformers import DataCollatorForTokenClassification\n",
        "\n",
        "data_collator = DataCollatorForTokenClassification(tokenizer=tokenizer)"
      ]
    },
    {
      "cell_type": "code",
      "execution_count": null,
      "metadata": {
        "id": "d06Nq9ff14WU"
      },
      "outputs": [],
      "source": [
        "#import the classification report to get individual scores\n",
        "from seqeval.metrics import classification_report\n",
        "import numpy as np"
      ]
    },
    {
      "cell_type": "code",
      "source": [
        "def calculate_performance_metrics(prediction_data):\n",
        "    predictions, labels = prediction_data\n",
        "    predictions = np.argmax(predictions, axis=2)\n",
        "\n",
        "    extract_labels = lambda prediction, label: [labels_list[l] for (p, l) in zip(prediction, label) if l != -100]\n",
        "\n",
        "    true_predictions = [extract_labels(prediction, label) for prediction, label in zip(predictions, labels)]\n",
        "    true_labels = [extract_labels(prediction, label) for prediction, label in zip(predictions, labels)]\n",
        "\n",
        "    evaluation_results = seqeval.compute(predictions=true_predictions, references=true_labels)\n",
        "    print(classification_report(true_predictions, true_labels))\n",
        "\n",
        "    return {\n",
        "        \"precision\": evaluation_results[\"overall_precision\"],\n",
        "        \"recall\": evaluation_results[\"overall_recall\"],\n",
        "        \"f1\": evaluation_results[\"overall_f1\"],\n",
        "        \"accuracy\": evaluation_results[\"overall_accuracy\"],\n",
        "    }\n"
      ],
      "metadata": {
        "id": "u3LpKspzgdF_"
      },
      "execution_count": null,
      "outputs": []
    },
    {
      "cell_type": "code",
      "execution_count": null,
      "metadata": {
        "colab": {
          "base_uri": "https://localhost:8080/",
          "height": 103,
          "referenced_widgets": [
            "5d8a8c1f60eb4861985c0a96621f1d58",
            "ba6294eed7d14e4bb4d4b575dcb6a975",
            "a2a0891577c94a76bb864610e8489826",
            "7050c21c7be3486b982caec9062df522",
            "64d6623f8d784e7e9b1fdf064e578e4c",
            "02434517f0724437b565cbc86508e24e",
            "019f0c7d1d6b4c62819cb07895ec9362",
            "7bb82a7883d146a58a041290c8e2522f",
            "6317a0a3e0be4dbe9e9509f18b64cd45",
            "dbd2c54c3f30471dabf5e1fc6a52431d",
            "ff8bcc019f10463bbf918efb8ad119f1"
          ]
        },
        "id": "iI9BZ7S-2XWU",
        "outputId": "56a09fb9-a770-42f7-8a11-ef7b0bd78833"
      },
      "outputs": [
        {
          "data": {
            "application/vnd.jupyter.widget-view+json": {
              "model_id": "5d8a8c1f60eb4861985c0a96621f1d58",
              "version_major": 2,
              "version_minor": 0
            },
            "text/plain": [
              "model.safetensors:   0%|          | 0.00/440M [00:00<?, ?B/s]"
            ]
          },
          "metadata": {},
          "output_type": "display_data"
        },
        {
          "name": "stderr",
          "output_type": "stream",
          "text": [
            "Some weights of BertForTokenClassification were not initialized from the model checkpoint at bert-base-uncased and are newly initialized: ['classifier.bias', 'classifier.weight']\n",
            "You should probably TRAIN this model on a down-stream task to be able to use it for predictions and inference.\n"
          ]
        }
      ],
      "source": [
        "model = AutoModelForTokenClassification.from_pretrained('bert-base-uncased', num_labels=len_labels, id2label=id2label, label2id=label2id)"
      ]
    },
    {
      "cell_type": "code",
      "execution_count": null,
      "metadata": {
        "colab": {
          "base_uri": "https://localhost:8080/"
        },
        "id": "fqN6UFxw2zTj",
        "outputId": "530286e6-3883-4665-bb3e-7418784db8bc"
      },
      "outputs": [
        {
          "data": {
            "text/plain": [
              "BertForTokenClassification(\n",
              "  (bert): BertModel(\n",
              "    (embeddings): BertEmbeddings(\n",
              "      (word_embeddings): Embedding(30522, 768, padding_idx=0)\n",
              "      (position_embeddings): Embedding(512, 768)\n",
              "      (token_type_embeddings): Embedding(2, 768)\n",
              "      (LayerNorm): LayerNorm((768,), eps=1e-12, elementwise_affine=True)\n",
              "      (dropout): Dropout(p=0.1, inplace=False)\n",
              "    )\n",
              "    (encoder): BertEncoder(\n",
              "      (layer): ModuleList(\n",
              "        (0-11): 12 x BertLayer(\n",
              "          (attention): BertAttention(\n",
              "            (self): BertSelfAttention(\n",
              "              (query): Linear(in_features=768, out_features=768, bias=True)\n",
              "              (key): Linear(in_features=768, out_features=768, bias=True)\n",
              "              (value): Linear(in_features=768, out_features=768, bias=True)\n",
              "              (dropout): Dropout(p=0.1, inplace=False)\n",
              "            )\n",
              "            (output): BertSelfOutput(\n",
              "              (dense): Linear(in_features=768, out_features=768, bias=True)\n",
              "              (LayerNorm): LayerNorm((768,), eps=1e-12, elementwise_affine=True)\n",
              "              (dropout): Dropout(p=0.1, inplace=False)\n",
              "            )\n",
              "          )\n",
              "          (intermediate): BertIntermediate(\n",
              "            (dense): Linear(in_features=768, out_features=3072, bias=True)\n",
              "            (intermediate_act_fn): GELUActivation()\n",
              "          )\n",
              "          (output): BertOutput(\n",
              "            (dense): Linear(in_features=3072, out_features=768, bias=True)\n",
              "            (LayerNorm): LayerNorm((768,), eps=1e-12, elementwise_affine=True)\n",
              "            (dropout): Dropout(p=0.1, inplace=False)\n",
              "          )\n",
              "        )\n",
              "      )\n",
              "    )\n",
              "  )\n",
              "  (dropout): Dropout(p=0.1, inplace=False)\n",
              "  (classifier): Linear(in_features=768, out_features=30, bias=True)\n",
              ")"
            ]
          },
          "execution_count": 32,
          "metadata": {},
          "output_type": "execute_result"
        }
      ],
      "source": [
        "model.to('cuda')"
      ]
    },
    {
      "cell_type": "code",
      "execution_count": null,
      "metadata": {
        "id": "ZdHbAkf13byi"
      },
      "outputs": [],
      "source": [
        "from transformers import AutoModelForTokenClassification, TrainingArguments, Trainer\n",
        "\n",
        "training_args = TrainingArguments(\n",
        "    output_dir=\"model-bert-test\",\n",
        "    learning_rate=2e-5,\n",
        "    per_device_train_batch_size=16,\n",
        "    per_device_eval_batch_size=16,\n",
        "    num_train_epochs=5,\n",
        "    weight_decay=0.01,\n",
        "    evaluation_strategy=\"epoch\",\n",
        "    save_strategy=\"epoch\",\n",
        "    metric_for_best_model='f1',\n",
        "    load_best_model_at_end=True,\n",
        ")"
      ]
    },
    {
      "cell_type": "code",
      "execution_count": null,
      "metadata": {
        "id": "COIKiTz35pFe"
      },
      "outputs": [],
      "source": [
        "#if we do not remove the column names we get an error when training\n",
        "tokenized_data = tokenized_data.remove_columns(slot_filling_dataset[\"train\"].column_names)"
      ]
    },
    {
      "cell_type": "code",
      "execution_count": null,
      "metadata": {
        "colab": {
          "base_uri": "https://localhost:8080/"
        },
        "id": "L-TLWhbC-NIV",
        "outputId": "02df715b-597c-4e0c-c610-182f0311acf0"
      },
      "outputs": [
        {
          "data": {
            "text/plain": [
              "Dataset({\n",
              "    features: ['input_ids', 'token_type_ids', 'attention_mask', 'labels'],\n",
              "    num_rows: 19501\n",
              "})"
            ]
          },
          "execution_count": 40,
          "metadata": {},
          "output_type": "execute_result"
        }
      ],
      "source": [
        "tokenized_data['train']"
      ]
    },
    {
      "cell_type": "code",
      "execution_count": null,
      "metadata": {
        "id": "c-x1Kqnc31yB"
      },
      "outputs": [],
      "source": [
        "#generate tensors for BERT\n",
        "tokenized_data.set_format('torch')"
      ]
    },
    {
      "cell_type": "code",
      "execution_count": null,
      "metadata": {
        "id": "qtEyXq-f33-U"
      },
      "outputs": [],
      "source": [
        "trainer = Trainer(\n",
        "    model=model,\n",
        "    args=training_args,\n",
        "    train_dataset=tokenized_data['train'],\n",
        "    eval_dataset=tokenized_data['val'],\n",
        "    tokenizer=tokenizer,\n",
        "    data_collator=data_collator,\n",
        "    compute_metrics=calculate_performance_metrics,\n",
        ")"
      ]
    },
    {
      "cell_type": "code",
      "execution_count": null,
      "metadata": {
        "colab": {
          "base_uri": "https://localhost:8080/",
          "height": 1000
        },
        "id": "t0Hpm0C439eD",
        "outputId": "06817912-9751-41e5-935a-77936d7077f2"
      },
      "outputs": [
        {
          "name": "stderr",
          "output_type": "stream",
          "text": [
            "You're using a BertTokenizerFast tokenizer. Please note that with a fast tokenizer, using the `__call__` method is faster than using a method to encode the text followed by a call to the `pad` method to get a padded encoding.\n"
          ]
        },
        {
          "data": {
            "text/html": [
              "\n",
              "    <div>\n",
              "      \n",
              "      <progress value='6095' max='6095' style='width:300px; height:20px; vertical-align: middle;'></progress>\n",
              "      [6095/6095 14:31, Epoch 5/5]\n",
              "    </div>\n",
              "    <table border=\"1\" class=\"dataframe\">\n",
              "  <thead>\n",
              " <tr style=\"text-align: left;\">\n",
              "      <th>Epoch</th>\n",
              "      <th>Training Loss</th>\n",
              "      <th>Validation Loss</th>\n",
              "      <th>Precision</th>\n",
              "      <th>Recall</th>\n",
              "      <th>F1</th>\n",
              "      <th>Accuracy</th>\n",
              "    </tr>\n",
              "  </thead>\n",
              "  <tbody>\n",
              "    <tr>\n",
              "      <td>1</td>\n",
              "      <td>0.095800</td>\n",
              "      <td>0.070794</td>\n",
              "      <td>0.875087</td>\n",
              "      <td>0.923775</td>\n",
              "      <td>0.898772</td>\n",
              "      <td>0.977830</td>\n",
              "    </tr>\n",
              "    <tr>\n",
              "      <td>2</td>\n",
              "      <td>0.068300</td>\n",
              "      <td>0.062283</td>\n",
              "      <td>0.890102</td>\n",
              "      <td>0.938971</td>\n",
              "      <td>0.913884</td>\n",
              "      <td>0.978884</td>\n",
              "    </tr>\n",
              "    <tr>\n",
              "      <td>3</td>\n",
              "      <td>0.053600</td>\n",
              "      <td>0.060614</td>\n",
              "      <td>0.901205</td>\n",
              "      <td>0.934559</td>\n",
              "      <td>0.917579</td>\n",
              "      <td>0.980257</td>\n",
              "    </tr>\n",
              "    <tr>\n",
              "      <td>4</td>\n",
              "      <td>0.047000</td>\n",
              "      <td>0.061984</td>\n",
              "      <td>0.896189</td>\n",
              "      <td>0.939461</td>\n",
              "      <td>0.917315</td>\n",
              "      <td>0.980194</td>\n",
              "    </tr>\n",
              "    <tr>\n",
              "      <td>5</td>\n",
              "      <td>0.038000</td>\n",
              "      <td>0.064219</td>\n",
              "      <td>0.899503</td>\n",
              "      <td>0.932353</td>\n",
              "      <td>0.915634</td>\n",
              "      <td>0.980034</td>\n",
              "    </tr>\n",
              "  </tbody>\n",
              "</table><p>"
            ],
            "text/plain": [
              "<IPython.core.display.HTML object>"
            ]
          },
          "metadata": {},
          "output_type": "display_data"
        },
        {
          "name": "stdout",
          "output_type": "stream",
          "text": [
            "                       precision    recall  f1-score   support\n",
            "\n",
            "           hotel-area       0.74      0.83      0.78       212\n",
            "        hotel-bookday       0.96      0.94      0.95       272\n",
            "     hotel-bookpeople       0.90      0.90      0.90       253\n",
            "       hotel-bookstay       0.95      0.97      0.96       313\n",
            "           hotel-name       0.90      0.87      0.88       163\n",
            "     hotel-pricerange       0.78      0.84      0.81       246\n",
            "          hotel-stars       1.00      0.94      0.97       219\n",
            "           hotel-type       0.82      0.76      0.79       287\n",
            "      restaurant-area       0.95      0.79      0.87       390\n",
            "   restaurant-bookday       0.99      0.91      0.95       299\n",
            "restaurant-bookpeople       0.99      0.86      0.92       302\n",
            "  restaurant-booktime       0.98      0.95      0.97       355\n",
            "      restaurant-food       0.97      0.91      0.94       447\n",
            "      restaurant-name       0.86      0.83      0.85       162\n",
            "restaurant-pricerange       0.97      0.81      0.88       387\n",
            "\n",
            "            micro avg       0.92      0.88      0.90      4307\n",
            "            macro avg       0.92      0.87      0.89      4307\n",
            "         weighted avg       0.93      0.88      0.90      4307\n",
            "\n",
            "                       precision    recall  f1-score   support\n",
            "\n",
            "           hotel-area       0.86      0.81      0.83       247\n",
            "        hotel-bookday       0.96      0.96      0.96       268\n",
            "     hotel-bookpeople       0.94      0.90      0.92       267\n",
            "       hotel-bookstay       0.95      0.97      0.96       313\n",
            "           hotel-name       0.95      0.90      0.92       166\n",
            "     hotel-pricerange       0.84      0.89      0.86       254\n",
            "          hotel-stars       1.00      0.94      0.97       219\n",
            "           hotel-type       0.89      0.72      0.79       330\n",
            "      restaurant-area       0.91      0.87      0.89       343\n",
            "   restaurant-bookday       0.99      0.93      0.96       292\n",
            "restaurant-bookpeople       0.96      0.91      0.93       280\n",
            "  restaurant-booktime       0.98      0.96      0.97       357\n",
            "      restaurant-food       0.97      0.91      0.94       447\n",
            "      restaurant-name       0.89      0.81      0.85       170\n",
            "restaurant-pricerange       0.95      0.87      0.91       351\n",
            "\n",
            "            micro avg       0.94      0.89      0.91      4304\n",
            "            macro avg       0.94      0.89      0.91      4304\n",
            "         weighted avg       0.94      0.89      0.91      4304\n",
            "\n",
            "                       precision    recall  f1-score   support\n",
            "\n",
            "           hotel-area       0.87      0.83      0.85       246\n",
            "        hotel-bookday       0.97      0.95      0.96       273\n",
            "     hotel-bookpeople       0.96      0.89      0.93       274\n",
            "       hotel-bookstay       0.95      0.96      0.95       315\n",
            "           hotel-name       0.96      0.90      0.93       167\n",
            "     hotel-pricerange       0.90      0.83      0.86       287\n",
            "          hotel-stars       0.99      0.94      0.96       218\n",
            "           hotel-type       0.83      0.76      0.79       292\n",
            "      restaurant-area       0.91      0.88      0.89       339\n",
            "   restaurant-bookday       0.99      0.94      0.97       288\n",
            "restaurant-bookpeople       0.95      0.92      0.94       272\n",
            "  restaurant-booktime       0.97      0.97      0.97       349\n",
            "      restaurant-food       0.95      0.94      0.95       424\n",
            "      restaurant-name       0.91      0.86      0.88       164\n",
            "restaurant-pricerange       0.90      0.90      0.90       323\n",
            "\n",
            "            micro avg       0.93      0.90      0.92      4231\n",
            "            macro avg       0.93      0.90      0.92      4231\n",
            "         weighted avg       0.93      0.90      0.92      4231\n",
            "\n",
            "                       precision    recall  f1-score   support\n",
            "\n",
            "           hotel-area       0.86      0.79      0.82       253\n",
            "        hotel-bookday       0.98      0.94      0.96       278\n",
            "     hotel-bookpeople       0.95      0.90      0.92       267\n",
            "       hotel-bookstay       0.95      0.96      0.95       316\n",
            "           hotel-name       0.95      0.89      0.92       167\n",
            "     hotel-pricerange       0.87      0.86      0.87       271\n",
            "          hotel-stars       0.99      0.94      0.97       217\n",
            "           hotel-type       0.86      0.75      0.80       305\n",
            "      restaurant-area       0.92      0.88      0.90       341\n",
            "   restaurant-bookday       0.99      0.95      0.97       284\n",
            "restaurant-bookpeople       0.96      0.90      0.93       281\n",
            "  restaurant-booktime       0.98      0.96      0.97       356\n",
            "      restaurant-food       0.97      0.94      0.96       431\n",
            "      restaurant-name       0.89      0.86      0.87       161\n",
            "restaurant-pricerange       0.93      0.87      0.90       349\n",
            "\n",
            "            micro avg       0.94      0.90      0.92      4277\n",
            "            macro avg       0.94      0.89      0.91      4277\n",
            "         weighted avg       0.94      0.90      0.92      4277\n",
            "\n",
            "                       precision    recall  f1-score   support\n",
            "\n",
            "           hotel-area       0.84      0.78      0.81       252\n",
            "        hotel-bookday       0.97      0.95      0.96       276\n",
            "     hotel-bookpeople       0.95      0.89      0.92       269\n",
            "       hotel-bookstay       0.95      0.96      0.95       315\n",
            "           hotel-name       0.94      0.90      0.92       165\n",
            "     hotel-pricerange       0.87      0.87      0.87       266\n",
            "          hotel-stars       0.99      0.94      0.96       218\n",
            "           hotel-type       0.81      0.78      0.80       278\n",
            "      restaurant-area       0.92      0.87      0.89       341\n",
            "   restaurant-bookday       0.99      0.95      0.97       284\n",
            "restaurant-bookpeople       0.96      0.91      0.94       277\n",
            "  restaurant-booktime       0.99      0.95      0.97       362\n",
            "      restaurant-food       0.96      0.95      0.96       426\n",
            "      restaurant-name       0.88      0.85      0.87       161\n",
            "restaurant-pricerange       0.92      0.88      0.90       339\n",
            "\n",
            "            micro avg       0.93      0.90      0.92      4229\n",
            "            macro avg       0.93      0.90      0.91      4229\n",
            "         weighted avg       0.93      0.90      0.92      4229\n",
            "\n"
          ]
        },
        {
          "data": {
            "text/plain": [
              "TrainOutput(global_step=6095, training_loss=0.07199889895757561, metrics={'train_runtime': 872.2889, 'train_samples_per_second': 111.781, 'train_steps_per_second': 6.987, 'total_flos': 1602812086688160.0, 'train_loss': 0.07199889895757561, 'epoch': 5.0})"
            ]
          },
          "execution_count": 49,
          "metadata": {},
          "output_type": "execute_result"
        }
      ],
      "source": [
        "trainer.train()"
      ]
    },
    {
      "cell_type": "code",
      "execution_count": null,
      "metadata": {
        "id": "T6RhaTxqCiEx"
      },
      "outputs": [],
      "source": [
        "model.save_pretrained('bert-base-uncased-slot-filling')"
      ]
    },
    {
      "cell_type": "code",
      "execution_count": null,
      "metadata": {
        "id": "4uLNhCkLFZIL"
      },
      "outputs": [],
      "source": [
        "from transformers import AutoModelForTokenClassification\n",
        "\n",
        "# Replace 'path_to_your_model_directory' with the actual path to your saved model directory\n",
        "model_directory = 'bert-base-uncased-slot-filling'\n",
        "\n",
        "# Load the pre-trained BERT model\n",
        "loaded_model = AutoModelForTokenClassification.from_pretrained(model_directory)"
      ]
    },
    {
      "cell_type": "code",
      "execution_count": null,
      "metadata": {
        "colab": {
          "base_uri": "https://localhost:8080/"
        },
        "id": "EalVTROMGWjs",
        "outputId": "16a0a9f9-aca5-4123-88a6-e6551a510c0f"
      },
      "outputs": [
        {
          "data": {
            "text/plain": [
              "BertForTokenClassification(\n",
              "  (bert): BertModel(\n",
              "    (embeddings): BertEmbeddings(\n",
              "      (word_embeddings): Embedding(30522, 768, padding_idx=0)\n",
              "      (position_embeddings): Embedding(512, 768)\n",
              "      (token_type_embeddings): Embedding(2, 768)\n",
              "      (LayerNorm): LayerNorm((768,), eps=1e-12, elementwise_affine=True)\n",
              "      (dropout): Dropout(p=0.1, inplace=False)\n",
              "    )\n",
              "    (encoder): BertEncoder(\n",
              "      (layer): ModuleList(\n",
              "        (0-11): 12 x BertLayer(\n",
              "          (attention): BertAttention(\n",
              "            (self): BertSelfAttention(\n",
              "              (query): Linear(in_features=768, out_features=768, bias=True)\n",
              "              (key): Linear(in_features=768, out_features=768, bias=True)\n",
              "              (value): Linear(in_features=768, out_features=768, bias=True)\n",
              "              (dropout): Dropout(p=0.1, inplace=False)\n",
              "            )\n",
              "            (output): BertSelfOutput(\n",
              "              (dense): Linear(in_features=768, out_features=768, bias=True)\n",
              "              (LayerNorm): LayerNorm((768,), eps=1e-12, elementwise_affine=True)\n",
              "              (dropout): Dropout(p=0.1, inplace=False)\n",
              "            )\n",
              "          )\n",
              "          (intermediate): BertIntermediate(\n",
              "            (dense): Linear(in_features=768, out_features=3072, bias=True)\n",
              "            (intermediate_act_fn): GELUActivation()\n",
              "          )\n",
              "          (output): BertOutput(\n",
              "            (dense): Linear(in_features=3072, out_features=768, bias=True)\n",
              "            (LayerNorm): LayerNorm((768,), eps=1e-12, elementwise_affine=True)\n",
              "            (dropout): Dropout(p=0.1, inplace=False)\n",
              "          )\n",
              "        )\n",
              "      )\n",
              "    )\n",
              "  )\n",
              "  (dropout): Dropout(p=0.1, inplace=False)\n",
              "  (classifier): Linear(in_features=768, out_features=30, bias=True)\n",
              ")"
            ]
          },
          "execution_count": 57,
          "metadata": {},
          "output_type": "execute_result"
        }
      ],
      "source": [
        "model.to('cpu')"
      ]
    }
  ],
  "metadata": {
    "accelerator": "GPU",
    "colab": {
      "gpuType": "T4",
      "provenance": []
    },
    "kernelspec": {
      "display_name": "Python 3 (ipykernel)",
      "language": "python",
      "name": "python3"
    },
    "language_info": {
      "codemirror_mode": {
        "name": "ipython",
        "version": 3
      },
      "file_extension": ".py",
      "mimetype": "text/x-python",
      "name": "python",
      "nbconvert_exporter": "python",
      "pygments_lexer": "ipython3",
      "version": "3.10.8"
    },
    "vscode": {
      "interpreter": {
        "hash": "7500c3e1c7c786e4ba1e4b4eb7588219b4e35d5153674f92eb3a82672b534f6e"
      }
    },
    "widgets": {
      "application/vnd.jupyter.widget-state+json": {
        "019f0c7d1d6b4c62819cb07895ec9362": {
          "model_module": "@jupyter-widgets/controls",
          "model_module_version": "1.5.0",
          "model_name": "DescriptionStyleModel",
          "state": {
            "_model_module": "@jupyter-widgets/controls",
            "_model_module_version": "1.5.0",
            "_model_name": "DescriptionStyleModel",
            "_view_count": null,
            "_view_module": "@jupyter-widgets/base",
            "_view_module_version": "1.2.0",
            "_view_name": "StyleView",
            "description_width": ""
          }
        },
        "02434517f0724437b565cbc86508e24e": {
          "model_module": "@jupyter-widgets/base",
          "model_module_version": "1.2.0",
          "model_name": "LayoutModel",
          "state": {
            "_model_module": "@jupyter-widgets/base",
            "_model_module_version": "1.2.0",
            "_model_name": "LayoutModel",
            "_view_count": null,
            "_view_module": "@jupyter-widgets/base",
            "_view_module_version": "1.2.0",
            "_view_name": "LayoutView",
            "align_content": null,
            "align_items": null,
            "align_self": null,
            "border": null,
            "bottom": null,
            "display": null,
            "flex": null,
            "flex_flow": null,
            "grid_area": null,
            "grid_auto_columns": null,
            "grid_auto_flow": null,
            "grid_auto_rows": null,
            "grid_column": null,
            "grid_gap": null,
            "grid_row": null,
            "grid_template_areas": null,
            "grid_template_columns": null,
            "grid_template_rows": null,
            "height": null,
            "justify_content": null,
            "justify_items": null,
            "left": null,
            "margin": null,
            "max_height": null,
            "max_width": null,
            "min_height": null,
            "min_width": null,
            "object_fit": null,
            "object_position": null,
            "order": null,
            "overflow": null,
            "overflow_x": null,
            "overflow_y": null,
            "padding": null,
            "right": null,
            "top": null,
            "visibility": null,
            "width": null
          }
        },
        "0267a9654724418192691197a66437ee": {
          "model_module": "@jupyter-widgets/controls",
          "model_module_version": "1.5.0",
          "model_name": "FloatProgressModel",
          "state": {
            "_dom_classes": [],
            "_model_module": "@jupyter-widgets/controls",
            "_model_module_version": "1.5.0",
            "_model_name": "FloatProgressModel",
            "_view_count": null,
            "_view_module": "@jupyter-widgets/controls",
            "_view_module_version": "1.5.0",
            "_view_name": "ProgressView",
            "bar_style": "success",
            "description": "",
            "description_tooltip": null,
            "layout": "IPY_MODEL_7d9e22a5acee4b7caa4471950a8dead5",
            "max": 1000,
            "min": 0,
            "orientation": "horizontal",
            "style": "IPY_MODEL_26b00a7c776546f6a6f75780785cd8f9",
            "value": 1000
          }
        },
        "08ee547025a64d7a8e3a0990af0e2e0a": {
          "model_module": "@jupyter-widgets/base",
          "model_module_version": "1.2.0",
          "model_name": "LayoutModel",
          "state": {
            "_model_module": "@jupyter-widgets/base",
            "_model_module_version": "1.2.0",
            "_model_name": "LayoutModel",
            "_view_count": null,
            "_view_module": "@jupyter-widgets/base",
            "_view_module_version": "1.2.0",
            "_view_name": "LayoutView",
            "align_content": null,
            "align_items": null,
            "align_self": null,
            "border": null,
            "bottom": null,
            "display": null,
            "flex": null,
            "flex_flow": null,
            "grid_area": null,
            "grid_auto_columns": null,
            "grid_auto_flow": null,
            "grid_auto_rows": null,
            "grid_column": null,
            "grid_gap": null,
            "grid_row": null,
            "grid_template_areas": null,
            "grid_template_columns": null,
            "grid_template_rows": null,
            "height": null,
            "justify_content": null,
            "justify_items": null,
            "left": null,
            "margin": null,
            "max_height": null,
            "max_width": null,
            "min_height": null,
            "min_width": null,
            "object_fit": null,
            "object_position": null,
            "order": null,
            "overflow": null,
            "overflow_x": null,
            "overflow_y": null,
            "padding": null,
            "right": null,
            "top": null,
            "visibility": null,
            "width": null
          }
        },
        "0ab29aeb7bf04bd0a4f641e9fc2d170a": {
          "model_module": "@jupyter-widgets/base",
          "model_module_version": "1.2.0",
          "model_name": "LayoutModel",
          "state": {
            "_model_module": "@jupyter-widgets/base",
            "_model_module_version": "1.2.0",
            "_model_name": "LayoutModel",
            "_view_count": null,
            "_view_module": "@jupyter-widgets/base",
            "_view_module_version": "1.2.0",
            "_view_name": "LayoutView",
            "align_content": null,
            "align_items": null,
            "align_self": null,
            "border": null,
            "bottom": null,
            "display": null,
            "flex": null,
            "flex_flow": null,
            "grid_area": null,
            "grid_auto_columns": null,
            "grid_auto_flow": null,
            "grid_auto_rows": null,
            "grid_column": null,
            "grid_gap": null,
            "grid_row": null,
            "grid_template_areas": null,
            "grid_template_columns": null,
            "grid_template_rows": null,
            "height": null,
            "justify_content": null,
            "justify_items": null,
            "left": null,
            "margin": null,
            "max_height": null,
            "max_width": null,
            "min_height": null,
            "min_width": null,
            "object_fit": null,
            "object_position": null,
            "order": null,
            "overflow": null,
            "overflow_x": null,
            "overflow_y": null,
            "padding": null,
            "right": null,
            "top": null,
            "visibility": null,
            "width": null
          }
        },
        "0e2a9ff994b64d0180251a362dee18a7": {
          "model_module": "@jupyter-widgets/controls",
          "model_module_version": "1.5.0",
          "model_name": "HTMLModel",
          "state": {
            "_dom_classes": [],
            "_model_module": "@jupyter-widgets/controls",
            "_model_module_version": "1.5.0",
            "_model_name": "HTMLModel",
            "_view_count": null,
            "_view_module": "@jupyter-widgets/controls",
            "_view_module_version": "1.5.0",
            "_view_name": "HTMLView",
            "description": "",
            "description_tooltip": null,
            "layout": "IPY_MODEL_bc48e7fcee52424aa1f8c5855ea83f47",
            "placeholder": "​",
            "style": "IPY_MODEL_8a32db5de0ed47059617a313bb8f5856",
            "value": " 1000/1000 [00:02&lt;00:00, 463.91 examples/s]"
          }
        },
        "147496f76b8d4bb4be64734eae2716a1": {
          "model_module": "@jupyter-widgets/controls",
          "model_module_version": "1.5.0",
          "model_name": "HTMLModel",
          "state": {
            "_dom_classes": [],
            "_model_module": "@jupyter-widgets/controls",
            "_model_module_version": "1.5.0",
            "_model_name": "HTMLModel",
            "_view_count": null,
            "_view_module": "@jupyter-widgets/controls",
            "_view_module_version": "1.5.0",
            "_view_name": "HTMLView",
            "description": "",
            "description_tooltip": null,
            "layout": "IPY_MODEL_fa28cba4b1ac4b96809c876771aee089",
            "placeholder": "​",
            "style": "IPY_MODEL_52ce8b61be174e928ec49935a1850307",
            "value": " 1000/1000 [00:02&lt;00:00, 403.75 examples/s]"
          }
        },
        "26b00a7c776546f6a6f75780785cd8f9": {
          "model_module": "@jupyter-widgets/controls",
          "model_module_version": "1.5.0",
          "model_name": "ProgressStyleModel",
          "state": {
            "_model_module": "@jupyter-widgets/controls",
            "_model_module_version": "1.5.0",
            "_model_name": "ProgressStyleModel",
            "_view_count": null,
            "_view_module": "@jupyter-widgets/base",
            "_view_module_version": "1.2.0",
            "_view_name": "StyleView",
            "bar_color": null,
            "description_width": ""
          }
        },
        "2cf34bffa88540e8b0b0cd0db3a5a9ee": {
          "model_module": "@jupyter-widgets/controls",
          "model_module_version": "1.5.0",
          "model_name": "DescriptionStyleModel",
          "state": {
            "_model_module": "@jupyter-widgets/controls",
            "_model_module_version": "1.5.0",
            "_model_name": "DescriptionStyleModel",
            "_view_count": null,
            "_view_module": "@jupyter-widgets/base",
            "_view_module_version": "1.2.0",
            "_view_name": "StyleView",
            "description_width": ""
          }
        },
        "2fa2eead37244473a20e96434a597b1e": {
          "model_module": "@jupyter-widgets/base",
          "model_module_version": "1.2.0",
          "model_name": "LayoutModel",
          "state": {
            "_model_module": "@jupyter-widgets/base",
            "_model_module_version": "1.2.0",
            "_model_name": "LayoutModel",
            "_view_count": null,
            "_view_module": "@jupyter-widgets/base",
            "_view_module_version": "1.2.0",
            "_view_name": "LayoutView",
            "align_content": null,
            "align_items": null,
            "align_self": null,
            "border": null,
            "bottom": null,
            "display": null,
            "flex": null,
            "flex_flow": null,
            "grid_area": null,
            "grid_auto_columns": null,
            "grid_auto_flow": null,
            "grid_auto_rows": null,
            "grid_column": null,
            "grid_gap": null,
            "grid_row": null,
            "grid_template_areas": null,
            "grid_template_columns": null,
            "grid_template_rows": null,
            "height": null,
            "justify_content": null,
            "justify_items": null,
            "left": null,
            "margin": null,
            "max_height": null,
            "max_width": null,
            "min_height": null,
            "min_width": null,
            "object_fit": null,
            "object_position": null,
            "order": null,
            "overflow": null,
            "overflow_x": null,
            "overflow_y": null,
            "padding": null,
            "right": null,
            "top": null,
            "visibility": null,
            "width": null
          }
        },
        "4242ee0c9ac34c65b129e3d72af0abf6": {
          "model_module": "@jupyter-widgets/controls",
          "model_module_version": "1.5.0",
          "model_name": "HBoxModel",
          "state": {
            "_dom_classes": [],
            "_model_module": "@jupyter-widgets/controls",
            "_model_module_version": "1.5.0",
            "_model_name": "HBoxModel",
            "_view_count": null,
            "_view_module": "@jupyter-widgets/controls",
            "_view_module_version": "1.5.0",
            "_view_name": "HBoxView",
            "box_style": "",
            "children": [
              "IPY_MODEL_c93e72c2d55943988f63884cdce2c63e",
              "IPY_MODEL_dbfd438fbbeb4370bae5cb59971e1859",
              "IPY_MODEL_b8a0ffaa697345f89cde18bd16b14055"
            ],
            "layout": "IPY_MODEL_6a5a92083cd047bbbbea245483f97204"
          }
        },
        "48ff0c73ad9c47af96bca453eb7ed56c": {
          "model_module": "@jupyter-widgets/controls",
          "model_module_version": "1.5.0",
          "model_name": "HTMLModel",
          "state": {
            "_dom_classes": [],
            "_model_module": "@jupyter-widgets/controls",
            "_model_module_version": "1.5.0",
            "_model_name": "HTMLModel",
            "_view_count": null,
            "_view_module": "@jupyter-widgets/controls",
            "_view_module_version": "1.5.0",
            "_view_name": "HTMLView",
            "description": "",
            "description_tooltip": null,
            "layout": "IPY_MODEL_964202672a02442590db4769f034dd49",
            "placeholder": "​",
            "style": "IPY_MODEL_2cf34bffa88540e8b0b0cd0db3a5a9ee",
            "value": "Saving the dataset (1/1 shards): 100%"
          }
        },
        "52ce8b61be174e928ec49935a1850307": {
          "model_module": "@jupyter-widgets/controls",
          "model_module_version": "1.5.0",
          "model_name": "DescriptionStyleModel",
          "state": {
            "_model_module": "@jupyter-widgets/controls",
            "_model_module_version": "1.5.0",
            "_model_name": "DescriptionStyleModel",
            "_view_count": null,
            "_view_module": "@jupyter-widgets/base",
            "_view_module_version": "1.2.0",
            "_view_name": "StyleView",
            "description_width": ""
          }
        },
        "5d8a8c1f60eb4861985c0a96621f1d58": {
          "model_module": "@jupyter-widgets/controls",
          "model_module_version": "1.5.0",
          "model_name": "HBoxModel",
          "state": {
            "_dom_classes": [],
            "_model_module": "@jupyter-widgets/controls",
            "_model_module_version": "1.5.0",
            "_model_name": "HBoxModel",
            "_view_count": null,
            "_view_module": "@jupyter-widgets/controls",
            "_view_module_version": "1.5.0",
            "_view_name": "HBoxView",
            "box_style": "",
            "children": [
              "IPY_MODEL_ba6294eed7d14e4bb4d4b575dcb6a975",
              "IPY_MODEL_a2a0891577c94a76bb864610e8489826",
              "IPY_MODEL_7050c21c7be3486b982caec9062df522"
            ],
            "layout": "IPY_MODEL_64d6623f8d784e7e9b1fdf064e578e4c"
          }
        },
        "6317a0a3e0be4dbe9e9509f18b64cd45": {
          "model_module": "@jupyter-widgets/controls",
          "model_module_version": "1.5.0",
          "model_name": "ProgressStyleModel",
          "state": {
            "_model_module": "@jupyter-widgets/controls",
            "_model_module_version": "1.5.0",
            "_model_name": "ProgressStyleModel",
            "_view_count": null,
            "_view_module": "@jupyter-widgets/base",
            "_view_module_version": "1.2.0",
            "_view_name": "StyleView",
            "bar_color": null,
            "description_width": ""
          }
        },
        "64d6623f8d784e7e9b1fdf064e578e4c": {
          "model_module": "@jupyter-widgets/base",
          "model_module_version": "1.2.0",
          "model_name": "LayoutModel",
          "state": {
            "_model_module": "@jupyter-widgets/base",
            "_model_module_version": "1.2.0",
            "_model_name": "LayoutModel",
            "_view_count": null,
            "_view_module": "@jupyter-widgets/base",
            "_view_module_version": "1.2.0",
            "_view_name": "LayoutView",
            "align_content": null,
            "align_items": null,
            "align_self": null,
            "border": null,
            "bottom": null,
            "display": null,
            "flex": null,
            "flex_flow": null,
            "grid_area": null,
            "grid_auto_columns": null,
            "grid_auto_flow": null,
            "grid_auto_rows": null,
            "grid_column": null,
            "grid_gap": null,
            "grid_row": null,
            "grid_template_areas": null,
            "grid_template_columns": null,
            "grid_template_rows": null,
            "height": null,
            "justify_content": null,
            "justify_items": null,
            "left": null,
            "margin": null,
            "max_height": null,
            "max_width": null,
            "min_height": null,
            "min_width": null,
            "object_fit": null,
            "object_position": null,
            "order": null,
            "overflow": null,
            "overflow_x": null,
            "overflow_y": null,
            "padding": null,
            "right": null,
            "top": null,
            "visibility": null,
            "width": null
          }
        },
        "6a5a92083cd047bbbbea245483f97204": {
          "model_module": "@jupyter-widgets/base",
          "model_module_version": "1.2.0",
          "model_name": "LayoutModel",
          "state": {
            "_model_module": "@jupyter-widgets/base",
            "_model_module_version": "1.2.0",
            "_model_name": "LayoutModel",
            "_view_count": null,
            "_view_module": "@jupyter-widgets/base",
            "_view_module_version": "1.2.0",
            "_view_name": "LayoutView",
            "align_content": null,
            "align_items": null,
            "align_self": null,
            "border": null,
            "bottom": null,
            "display": null,
            "flex": null,
            "flex_flow": null,
            "grid_area": null,
            "grid_auto_columns": null,
            "grid_auto_flow": null,
            "grid_auto_rows": null,
            "grid_column": null,
            "grid_gap": null,
            "grid_row": null,
            "grid_template_areas": null,
            "grid_template_columns": null,
            "grid_template_rows": null,
            "height": null,
            "justify_content": null,
            "justify_items": null,
            "left": null,
            "margin": null,
            "max_height": null,
            "max_width": null,
            "min_height": null,
            "min_width": null,
            "object_fit": null,
            "object_position": null,
            "order": null,
            "overflow": null,
            "overflow_x": null,
            "overflow_y": null,
            "padding": null,
            "right": null,
            "top": null,
            "visibility": null,
            "width": null
          }
        },
        "6cbf5791a70c4345b0a60c67c6d5d024": {
          "model_module": "@jupyter-widgets/controls",
          "model_module_version": "1.5.0",
          "model_name": "FloatProgressModel",
          "state": {
            "_dom_classes": [],
            "_model_module": "@jupyter-widgets/controls",
            "_model_module_version": "1.5.0",
            "_model_name": "FloatProgressModel",
            "_view_count": null,
            "_view_module": "@jupyter-widgets/controls",
            "_view_module_version": "1.5.0",
            "_view_name": "ProgressView",
            "bar_style": "success",
            "description": "",
            "description_tooltip": null,
            "layout": "IPY_MODEL_0ab29aeb7bf04bd0a4f641e9fc2d170a",
            "max": 1000,
            "min": 0,
            "orientation": "horizontal",
            "style": "IPY_MODEL_ac3146859e964c6790ae30cedb56de80",
            "value": 1000
          }
        },
        "7050c21c7be3486b982caec9062df522": {
          "model_module": "@jupyter-widgets/controls",
          "model_module_version": "1.5.0",
          "model_name": "HTMLModel",
          "state": {
            "_dom_classes": [],
            "_model_module": "@jupyter-widgets/controls",
            "_model_module_version": "1.5.0",
            "_model_name": "HTMLModel",
            "_view_count": null,
            "_view_module": "@jupyter-widgets/controls",
            "_view_module_version": "1.5.0",
            "_view_name": "HTMLView",
            "description": "",
            "description_tooltip": null,
            "layout": "IPY_MODEL_dbd2c54c3f30471dabf5e1fc6a52431d",
            "placeholder": "​",
            "style": "IPY_MODEL_ff8bcc019f10463bbf918efb8ad119f1",
            "value": " 440M/440M [00:01&lt;00:00, 329MB/s]"
          }
        },
        "7bb82a7883d146a58a041290c8e2522f": {
          "model_module": "@jupyter-widgets/base",
          "model_module_version": "1.2.0",
          "model_name": "LayoutModel",
          "state": {
            "_model_module": "@jupyter-widgets/base",
            "_model_module_version": "1.2.0",
            "_model_name": "LayoutModel",
            "_view_count": null,
            "_view_module": "@jupyter-widgets/base",
            "_view_module_version": "1.2.0",
            "_view_name": "LayoutView",
            "align_content": null,
            "align_items": null,
            "align_self": null,
            "border": null,
            "bottom": null,
            "display": null,
            "flex": null,
            "flex_flow": null,
            "grid_area": null,
            "grid_auto_columns": null,
            "grid_auto_flow": null,
            "grid_auto_rows": null,
            "grid_column": null,
            "grid_gap": null,
            "grid_row": null,
            "grid_template_areas": null,
            "grid_template_columns": null,
            "grid_template_rows": null,
            "height": null,
            "justify_content": null,
            "justify_items": null,
            "left": null,
            "margin": null,
            "max_height": null,
            "max_width": null,
            "min_height": null,
            "min_width": null,
            "object_fit": null,
            "object_position": null,
            "order": null,
            "overflow": null,
            "overflow_x": null,
            "overflow_y": null,
            "padding": null,
            "right": null,
            "top": null,
            "visibility": null,
            "width": null
          }
        },
        "7d15063e515345e5bc5e7a6487972109": {
          "model_module": "@jupyter-widgets/controls",
          "model_module_version": "1.5.0",
          "model_name": "HTMLModel",
          "state": {
            "_dom_classes": [],
            "_model_module": "@jupyter-widgets/controls",
            "_model_module_version": "1.5.0",
            "_model_name": "HTMLModel",
            "_view_count": null,
            "_view_module": "@jupyter-widgets/controls",
            "_view_module_version": "1.5.0",
            "_view_name": "HTMLView",
            "description": "",
            "description_tooltip": null,
            "layout": "IPY_MODEL_2fa2eead37244473a20e96434a597b1e",
            "placeholder": "​",
            "style": "IPY_MODEL_c087bd06cb8041548d10c123c75fffa2",
            "value": "Saving the dataset (1/1 shards): 100%"
          }
        },
        "7d9e22a5acee4b7caa4471950a8dead5": {
          "model_module": "@jupyter-widgets/base",
          "model_module_version": "1.2.0",
          "model_name": "LayoutModel",
          "state": {
            "_model_module": "@jupyter-widgets/base",
            "_model_module_version": "1.2.0",
            "_model_name": "LayoutModel",
            "_view_count": null,
            "_view_module": "@jupyter-widgets/base",
            "_view_module_version": "1.2.0",
            "_view_name": "LayoutView",
            "align_content": null,
            "align_items": null,
            "align_self": null,
            "border": null,
            "bottom": null,
            "display": null,
            "flex": null,
            "flex_flow": null,
            "grid_area": null,
            "grid_auto_columns": null,
            "grid_auto_flow": null,
            "grid_auto_rows": null,
            "grid_column": null,
            "grid_gap": null,
            "grid_row": null,
            "grid_template_areas": null,
            "grid_template_columns": null,
            "grid_template_rows": null,
            "height": null,
            "justify_content": null,
            "justify_items": null,
            "left": null,
            "margin": null,
            "max_height": null,
            "max_width": null,
            "min_height": null,
            "min_width": null,
            "object_fit": null,
            "object_position": null,
            "order": null,
            "overflow": null,
            "overflow_x": null,
            "overflow_y": null,
            "padding": null,
            "right": null,
            "top": null,
            "visibility": null,
            "width": null
          }
        },
        "7e40f7e6cc864a13890c94ee0cdad696": {
          "model_module": "@jupyter-widgets/controls",
          "model_module_version": "1.5.0",
          "model_name": "DescriptionStyleModel",
          "state": {
            "_model_module": "@jupyter-widgets/controls",
            "_model_module_version": "1.5.0",
            "_model_name": "DescriptionStyleModel",
            "_view_count": null,
            "_view_module": "@jupyter-widgets/base",
            "_view_module_version": "1.2.0",
            "_view_name": "StyleView",
            "description_width": ""
          }
        },
        "8a32db5de0ed47059617a313bb8f5856": {
          "model_module": "@jupyter-widgets/controls",
          "model_module_version": "1.5.0",
          "model_name": "DescriptionStyleModel",
          "state": {
            "_model_module": "@jupyter-widgets/controls",
            "_model_module_version": "1.5.0",
            "_model_name": "DescriptionStyleModel",
            "_view_count": null,
            "_view_module": "@jupyter-widgets/base",
            "_view_module_version": "1.2.0",
            "_view_name": "StyleView",
            "description_width": ""
          }
        },
        "8edf96320f5b421186862f950b15e9ce": {
          "model_module": "@jupyter-widgets/base",
          "model_module_version": "1.2.0",
          "model_name": "LayoutModel",
          "state": {
            "_model_module": "@jupyter-widgets/base",
            "_model_module_version": "1.2.0",
            "_model_name": "LayoutModel",
            "_view_count": null,
            "_view_module": "@jupyter-widgets/base",
            "_view_module_version": "1.2.0",
            "_view_name": "LayoutView",
            "align_content": null,
            "align_items": null,
            "align_self": null,
            "border": null,
            "bottom": null,
            "display": null,
            "flex": null,
            "flex_flow": null,
            "grid_area": null,
            "grid_auto_columns": null,
            "grid_auto_flow": null,
            "grid_auto_rows": null,
            "grid_column": null,
            "grid_gap": null,
            "grid_row": null,
            "grid_template_areas": null,
            "grid_template_columns": null,
            "grid_template_rows": null,
            "height": null,
            "justify_content": null,
            "justify_items": null,
            "left": null,
            "margin": null,
            "max_height": null,
            "max_width": null,
            "min_height": null,
            "min_width": null,
            "object_fit": null,
            "object_position": null,
            "order": null,
            "overflow": null,
            "overflow_x": null,
            "overflow_y": null,
            "padding": null,
            "right": null,
            "top": null,
            "visibility": null,
            "width": null
          }
        },
        "964202672a02442590db4769f034dd49": {
          "model_module": "@jupyter-widgets/base",
          "model_module_version": "1.2.0",
          "model_name": "LayoutModel",
          "state": {
            "_model_module": "@jupyter-widgets/base",
            "_model_module_version": "1.2.0",
            "_model_name": "LayoutModel",
            "_view_count": null,
            "_view_module": "@jupyter-widgets/base",
            "_view_module_version": "1.2.0",
            "_view_name": "LayoutView",
            "align_content": null,
            "align_items": null,
            "align_self": null,
            "border": null,
            "bottom": null,
            "display": null,
            "flex": null,
            "flex_flow": null,
            "grid_area": null,
            "grid_auto_columns": null,
            "grid_auto_flow": null,
            "grid_auto_rows": null,
            "grid_column": null,
            "grid_gap": null,
            "grid_row": null,
            "grid_template_areas": null,
            "grid_template_columns": null,
            "grid_template_rows": null,
            "height": null,
            "justify_content": null,
            "justify_items": null,
            "left": null,
            "margin": null,
            "max_height": null,
            "max_width": null,
            "min_height": null,
            "min_width": null,
            "object_fit": null,
            "object_position": null,
            "order": null,
            "overflow": null,
            "overflow_x": null,
            "overflow_y": null,
            "padding": null,
            "right": null,
            "top": null,
            "visibility": null,
            "width": null
          }
        },
        "9c39ddf603ad41d0b1f9042660e350ba": {
          "model_module": "@jupyter-widgets/base",
          "model_module_version": "1.2.0",
          "model_name": "LayoutModel",
          "state": {
            "_model_module": "@jupyter-widgets/base",
            "_model_module_version": "1.2.0",
            "_model_name": "LayoutModel",
            "_view_count": null,
            "_view_module": "@jupyter-widgets/base",
            "_view_module_version": "1.2.0",
            "_view_name": "LayoutView",
            "align_content": null,
            "align_items": null,
            "align_self": null,
            "border": null,
            "bottom": null,
            "display": null,
            "flex": null,
            "flex_flow": null,
            "grid_area": null,
            "grid_auto_columns": null,
            "grid_auto_flow": null,
            "grid_auto_rows": null,
            "grid_column": null,
            "grid_gap": null,
            "grid_row": null,
            "grid_template_areas": null,
            "grid_template_columns": null,
            "grid_template_rows": null,
            "height": null,
            "justify_content": null,
            "justify_items": null,
            "left": null,
            "margin": null,
            "max_height": null,
            "max_width": null,
            "min_height": null,
            "min_width": null,
            "object_fit": null,
            "object_position": null,
            "order": null,
            "overflow": null,
            "overflow_x": null,
            "overflow_y": null,
            "padding": null,
            "right": null,
            "top": null,
            "visibility": null,
            "width": null
          }
        },
        "a2a0891577c94a76bb864610e8489826": {
          "model_module": "@jupyter-widgets/controls",
          "model_module_version": "1.5.0",
          "model_name": "FloatProgressModel",
          "state": {
            "_dom_classes": [],
            "_model_module": "@jupyter-widgets/controls",
            "_model_module_version": "1.5.0",
            "_model_name": "FloatProgressModel",
            "_view_count": null,
            "_view_module": "@jupyter-widgets/controls",
            "_view_module_version": "1.5.0",
            "_view_name": "ProgressView",
            "bar_style": "success",
            "description": "",
            "description_tooltip": null,
            "layout": "IPY_MODEL_7bb82a7883d146a58a041290c8e2522f",
            "max": 440449768,
            "min": 0,
            "orientation": "horizontal",
            "style": "IPY_MODEL_6317a0a3e0be4dbe9e9509f18b64cd45",
            "value": 440449768
          }
        },
        "ac3146859e964c6790ae30cedb56de80": {
          "model_module": "@jupyter-widgets/controls",
          "model_module_version": "1.5.0",
          "model_name": "ProgressStyleModel",
          "state": {
            "_model_module": "@jupyter-widgets/controls",
            "_model_module_version": "1.5.0",
            "_model_name": "ProgressStyleModel",
            "_view_count": null,
            "_view_module": "@jupyter-widgets/base",
            "_view_module_version": "1.2.0",
            "_view_name": "StyleView",
            "bar_color": null,
            "description_width": ""
          }
        },
        "acffd75dde394c93b20782bdc63c325a": {
          "model_module": "@jupyter-widgets/base",
          "model_module_version": "1.2.0",
          "model_name": "LayoutModel",
          "state": {
            "_model_module": "@jupyter-widgets/base",
            "_model_module_version": "1.2.0",
            "_model_name": "LayoutModel",
            "_view_count": null,
            "_view_module": "@jupyter-widgets/base",
            "_view_module_version": "1.2.0",
            "_view_name": "LayoutView",
            "align_content": null,
            "align_items": null,
            "align_self": null,
            "border": null,
            "bottom": null,
            "display": null,
            "flex": null,
            "flex_flow": null,
            "grid_area": null,
            "grid_auto_columns": null,
            "grid_auto_flow": null,
            "grid_auto_rows": null,
            "grid_column": null,
            "grid_gap": null,
            "grid_row": null,
            "grid_template_areas": null,
            "grid_template_columns": null,
            "grid_template_rows": null,
            "height": null,
            "justify_content": null,
            "justify_items": null,
            "left": null,
            "margin": null,
            "max_height": null,
            "max_width": null,
            "min_height": null,
            "min_width": null,
            "object_fit": null,
            "object_position": null,
            "order": null,
            "overflow": null,
            "overflow_x": null,
            "overflow_y": null,
            "padding": null,
            "right": null,
            "top": null,
            "visibility": null,
            "width": null
          }
        },
        "b8a0ffaa697345f89cde18bd16b14055": {
          "model_module": "@jupyter-widgets/controls",
          "model_module_version": "1.5.0",
          "model_name": "HTMLModel",
          "state": {
            "_dom_classes": [],
            "_model_module": "@jupyter-widgets/controls",
            "_model_module_version": "1.5.0",
            "_model_name": "HTMLModel",
            "_view_count": null,
            "_view_module": "@jupyter-widgets/controls",
            "_view_module_version": "1.5.0",
            "_view_name": "HTMLView",
            "description": "",
            "description_tooltip": null,
            "layout": "IPY_MODEL_f9637874deea4809b4db368ad2babf12",
            "placeholder": "​",
            "style": "IPY_MODEL_d90aadb3292948c5b98096e2680d0e67",
            "value": " 8437/8437 [00:02&lt;00:00, 4160.88 examples/s]"
          }
        },
        "ba6294eed7d14e4bb4d4b575dcb6a975": {
          "model_module": "@jupyter-widgets/controls",
          "model_module_version": "1.5.0",
          "model_name": "HTMLModel",
          "state": {
            "_dom_classes": [],
            "_model_module": "@jupyter-widgets/controls",
            "_model_module_version": "1.5.0",
            "_model_name": "HTMLModel",
            "_view_count": null,
            "_view_module": "@jupyter-widgets/controls",
            "_view_module_version": "1.5.0",
            "_view_name": "HTMLView",
            "description": "",
            "description_tooltip": null,
            "layout": "IPY_MODEL_02434517f0724437b565cbc86508e24e",
            "placeholder": "​",
            "style": "IPY_MODEL_019f0c7d1d6b4c62819cb07895ec9362",
            "value": "model.safetensors: 100%"
          }
        },
        "bc48e7fcee52424aa1f8c5855ea83f47": {
          "model_module": "@jupyter-widgets/base",
          "model_module_version": "1.2.0",
          "model_name": "LayoutModel",
          "state": {
            "_model_module": "@jupyter-widgets/base",
            "_model_module_version": "1.2.0",
            "_model_name": "LayoutModel",
            "_view_count": null,
            "_view_module": "@jupyter-widgets/base",
            "_view_module_version": "1.2.0",
            "_view_name": "LayoutView",
            "align_content": null,
            "align_items": null,
            "align_self": null,
            "border": null,
            "bottom": null,
            "display": null,
            "flex": null,
            "flex_flow": null,
            "grid_area": null,
            "grid_auto_columns": null,
            "grid_auto_flow": null,
            "grid_auto_rows": null,
            "grid_column": null,
            "grid_gap": null,
            "grid_row": null,
            "grid_template_areas": null,
            "grid_template_columns": null,
            "grid_template_rows": null,
            "height": null,
            "justify_content": null,
            "justify_items": null,
            "left": null,
            "margin": null,
            "max_height": null,
            "max_width": null,
            "min_height": null,
            "min_width": null,
            "object_fit": null,
            "object_position": null,
            "order": null,
            "overflow": null,
            "overflow_x": null,
            "overflow_y": null,
            "padding": null,
            "right": null,
            "top": null,
            "visibility": null,
            "width": null
          }
        },
        "c087bd06cb8041548d10c123c75fffa2": {
          "model_module": "@jupyter-widgets/controls",
          "model_module_version": "1.5.0",
          "model_name": "DescriptionStyleModel",
          "state": {
            "_model_module": "@jupyter-widgets/controls",
            "_model_module_version": "1.5.0",
            "_model_name": "DescriptionStyleModel",
            "_view_count": null,
            "_view_module": "@jupyter-widgets/base",
            "_view_module_version": "1.2.0",
            "_view_name": "StyleView",
            "description_width": ""
          }
        },
        "c93e72c2d55943988f63884cdce2c63e": {
          "model_module": "@jupyter-widgets/controls",
          "model_module_version": "1.5.0",
          "model_name": "HTMLModel",
          "state": {
            "_dom_classes": [],
            "_model_module": "@jupyter-widgets/controls",
            "_model_module_version": "1.5.0",
            "_model_name": "HTMLModel",
            "_view_count": null,
            "_view_module": "@jupyter-widgets/controls",
            "_view_module_version": "1.5.0",
            "_view_name": "HTMLView",
            "description": "",
            "description_tooltip": null,
            "layout": "IPY_MODEL_8edf96320f5b421186862f950b15e9ce",
            "placeholder": "​",
            "style": "IPY_MODEL_7e40f7e6cc864a13890c94ee0cdad696",
            "value": "Saving the dataset (1/1 shards): 100%"
          }
        },
        "d90aadb3292948c5b98096e2680d0e67": {
          "model_module": "@jupyter-widgets/controls",
          "model_module_version": "1.5.0",
          "model_name": "DescriptionStyleModel",
          "state": {
            "_model_module": "@jupyter-widgets/controls",
            "_model_module_version": "1.5.0",
            "_model_name": "DescriptionStyleModel",
            "_view_count": null,
            "_view_module": "@jupyter-widgets/base",
            "_view_module_version": "1.2.0",
            "_view_name": "StyleView",
            "description_width": ""
          }
        },
        "dbd2c54c3f30471dabf5e1fc6a52431d": {
          "model_module": "@jupyter-widgets/base",
          "model_module_version": "1.2.0",
          "model_name": "LayoutModel",
          "state": {
            "_model_module": "@jupyter-widgets/base",
            "_model_module_version": "1.2.0",
            "_model_name": "LayoutModel",
            "_view_count": null,
            "_view_module": "@jupyter-widgets/base",
            "_view_module_version": "1.2.0",
            "_view_name": "LayoutView",
            "align_content": null,
            "align_items": null,
            "align_self": null,
            "border": null,
            "bottom": null,
            "display": null,
            "flex": null,
            "flex_flow": null,
            "grid_area": null,
            "grid_auto_columns": null,
            "grid_auto_flow": null,
            "grid_auto_rows": null,
            "grid_column": null,
            "grid_gap": null,
            "grid_row": null,
            "grid_template_areas": null,
            "grid_template_columns": null,
            "grid_template_rows": null,
            "height": null,
            "justify_content": null,
            "justify_items": null,
            "left": null,
            "margin": null,
            "max_height": null,
            "max_width": null,
            "min_height": null,
            "min_width": null,
            "object_fit": null,
            "object_position": null,
            "order": null,
            "overflow": null,
            "overflow_x": null,
            "overflow_y": null,
            "padding": null,
            "right": null,
            "top": null,
            "visibility": null,
            "width": null
          }
        },
        "dbfd438fbbeb4370bae5cb59971e1859": {
          "model_module": "@jupyter-widgets/controls",
          "model_module_version": "1.5.0",
          "model_name": "FloatProgressModel",
          "state": {
            "_dom_classes": [],
            "_model_module": "@jupyter-widgets/controls",
            "_model_module_version": "1.5.0",
            "_model_name": "FloatProgressModel",
            "_view_count": null,
            "_view_module": "@jupyter-widgets/controls",
            "_view_module_version": "1.5.0",
            "_view_name": "ProgressView",
            "bar_style": "success",
            "description": "",
            "description_tooltip": null,
            "layout": "IPY_MODEL_9c39ddf603ad41d0b1f9042660e350ba",
            "max": 8437,
            "min": 0,
            "orientation": "horizontal",
            "style": "IPY_MODEL_e65e26925a814fe58e25e8557b2c2e3d",
            "value": 8437
          }
        },
        "e65e26925a814fe58e25e8557b2c2e3d": {
          "model_module": "@jupyter-widgets/controls",
          "model_module_version": "1.5.0",
          "model_name": "ProgressStyleModel",
          "state": {
            "_model_module": "@jupyter-widgets/controls",
            "_model_module_version": "1.5.0",
            "_model_name": "ProgressStyleModel",
            "_view_count": null,
            "_view_module": "@jupyter-widgets/base",
            "_view_module_version": "1.2.0",
            "_view_name": "StyleView",
            "bar_color": null,
            "description_width": ""
          }
        },
        "f7890bcb21304c21b682f83121a7ac59": {
          "model_module": "@jupyter-widgets/controls",
          "model_module_version": "1.5.0",
          "model_name": "HBoxModel",
          "state": {
            "_dom_classes": [],
            "_model_module": "@jupyter-widgets/controls",
            "_model_module_version": "1.5.0",
            "_model_name": "HBoxModel",
            "_view_count": null,
            "_view_module": "@jupyter-widgets/controls",
            "_view_module_version": "1.5.0",
            "_view_name": "HBoxView",
            "box_style": "",
            "children": [
              "IPY_MODEL_7d15063e515345e5bc5e7a6487972109",
              "IPY_MODEL_0267a9654724418192691197a66437ee",
              "IPY_MODEL_0e2a9ff994b64d0180251a362dee18a7"
            ],
            "layout": "IPY_MODEL_08ee547025a64d7a8e3a0990af0e2e0a"
          }
        },
        "f9637874deea4809b4db368ad2babf12": {
          "model_module": "@jupyter-widgets/base",
          "model_module_version": "1.2.0",
          "model_name": "LayoutModel",
          "state": {
            "_model_module": "@jupyter-widgets/base",
            "_model_module_version": "1.2.0",
            "_model_name": "LayoutModel",
            "_view_count": null,
            "_view_module": "@jupyter-widgets/base",
            "_view_module_version": "1.2.0",
            "_view_name": "LayoutView",
            "align_content": null,
            "align_items": null,
            "align_self": null,
            "border": null,
            "bottom": null,
            "display": null,
            "flex": null,
            "flex_flow": null,
            "grid_area": null,
            "grid_auto_columns": null,
            "grid_auto_flow": null,
            "grid_auto_rows": null,
            "grid_column": null,
            "grid_gap": null,
            "grid_row": null,
            "grid_template_areas": null,
            "grid_template_columns": null,
            "grid_template_rows": null,
            "height": null,
            "justify_content": null,
            "justify_items": null,
            "left": null,
            "margin": null,
            "max_height": null,
            "max_width": null,
            "min_height": null,
            "min_width": null,
            "object_fit": null,
            "object_position": null,
            "order": null,
            "overflow": null,
            "overflow_x": null,
            "overflow_y": null,
            "padding": null,
            "right": null,
            "top": null,
            "visibility": null,
            "width": null
          }
        },
        "fa28cba4b1ac4b96809c876771aee089": {
          "model_module": "@jupyter-widgets/base",
          "model_module_version": "1.2.0",
          "model_name": "LayoutModel",
          "state": {
            "_model_module": "@jupyter-widgets/base",
            "_model_module_version": "1.2.0",
            "_model_name": "LayoutModel",
            "_view_count": null,
            "_view_module": "@jupyter-widgets/base",
            "_view_module_version": "1.2.0",
            "_view_name": "LayoutView",
            "align_content": null,
            "align_items": null,
            "align_self": null,
            "border": null,
            "bottom": null,
            "display": null,
            "flex": null,
            "flex_flow": null,
            "grid_area": null,
            "grid_auto_columns": null,
            "grid_auto_flow": null,
            "grid_auto_rows": null,
            "grid_column": null,
            "grid_gap": null,
            "grid_row": null,
            "grid_template_areas": null,
            "grid_template_columns": null,
            "grid_template_rows": null,
            "height": null,
            "justify_content": null,
            "justify_items": null,
            "left": null,
            "margin": null,
            "max_height": null,
            "max_width": null,
            "min_height": null,
            "min_width": null,
            "object_fit": null,
            "object_position": null,
            "order": null,
            "overflow": null,
            "overflow_x": null,
            "overflow_y": null,
            "padding": null,
            "right": null,
            "top": null,
            "visibility": null,
            "width": null
          }
        },
        "fde6c555fac14a11b3dbe8532cfe1d32": {
          "model_module": "@jupyter-widgets/controls",
          "model_module_version": "1.5.0",
          "model_name": "HBoxModel",
          "state": {
            "_dom_classes": [],
            "_model_module": "@jupyter-widgets/controls",
            "_model_module_version": "1.5.0",
            "_model_name": "HBoxModel",
            "_view_count": null,
            "_view_module": "@jupyter-widgets/controls",
            "_view_module_version": "1.5.0",
            "_view_name": "HBoxView",
            "box_style": "",
            "children": [
              "IPY_MODEL_48ff0c73ad9c47af96bca453eb7ed56c",
              "IPY_MODEL_6cbf5791a70c4345b0a60c67c6d5d024",
              "IPY_MODEL_147496f76b8d4bb4be64734eae2716a1"
            ],
            "layout": "IPY_MODEL_acffd75dde394c93b20782bdc63c325a"
          }
        },
        "ff8bcc019f10463bbf918efb8ad119f1": {
          "model_module": "@jupyter-widgets/controls",
          "model_module_version": "1.5.0",
          "model_name": "DescriptionStyleModel",
          "state": {
            "_model_module": "@jupyter-widgets/controls",
            "_model_module_version": "1.5.0",
            "_model_name": "DescriptionStyleModel",
            "_view_count": null,
            "_view_module": "@jupyter-widgets/base",
            "_view_module_version": "1.2.0",
            "_view_name": "StyleView",
            "description_width": ""
          }
        }
      }
    }
  },
  "nbformat": 4,
  "nbformat_minor": 0
}